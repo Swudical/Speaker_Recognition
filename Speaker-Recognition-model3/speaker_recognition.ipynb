{
 "metadata": {
  "language_info": {
   "codemirror_mode": {
    "name": "ipython",
    "version": 3
   },
   "file_extension": ".py",
   "mimetype": "text/x-python",
   "name": "python",
   "nbconvert_exporter": "python",
   "pygments_lexer": "ipython3",
   "version": "3.8.3-final"
  },
  "orig_nbformat": 2,
  "kernelspec": {
   "name": "python3",
   "display_name": "Python 3"
  }
 },
 "nbformat": 4,
 "nbformat_minor": 2,
 "cells": [
  {
   "cell_type": "code",
   "execution_count": 2,
   "metadata": {},
   "outputs": [
    {
     "output_type": "stream",
     "name": "stdout",
     "text": [
      "Now speaker  1 features are being trained\n",
      "Now speaker  2 features are being trained\n",
      "Now speaker  3 features are being trained\n",
      "Now speaker  4 features are being trained\n",
      "Now speaker  5 features are being trained\n",
      "Now speaker  6 features are being trained\n",
      "Now speaker  7 features are being trained\n",
      "Now speaker  8 features are being trained\n",
      "Figure(640x480)\n",
      "Figure(640x480)\n",
      "Figure(640x480)\n",
      "Figure(640x480)\n",
      "Figure(640x480)\n",
      "Figure(640x480)\n",
      "Figure(640x480)\n",
      "Figure(640x480)\n",
      "Training complete\n",
      "Figure(640x480)\n",
      "Now speaker  1 features are being tested\n",
      "Speaker  1  in test matches with speaker  1  in train for training with MFCC\n",
      "Speaker  1  in test matches with speaker  3  in train for training with LPC\n",
      "Now speaker  2 features are being tested\n",
      "Speaker  2  in test matches with speaker  2  in train for training with MFCC\n",
      "Speaker  2  in test matches with speaker  2  in train for training with LPC\n",
      "Now speaker  3 features are being tested\n",
      "Speaker  3  in test matches with speaker  3  in train for training with MFCC\n",
      "Speaker  3  in test matches with speaker  3  in train for training with LPC\n",
      "Now speaker  4 features are being tested\n",
      "Speaker  4  in test matches with speaker  4  in train for training with MFCC\n",
      "Speaker  4  in test matches with speaker  4  in train for training with LPC\n",
      "Now speaker  5 features are being tested\n",
      "Speaker  5  in test matches with speaker  1  in train for training with MFCC\n",
      "Speaker  5  in test matches with speaker  1  in train for training with LPC\n",
      "Now speaker  6 features are being tested\n",
      "Speaker  6  in test matches with speaker  5  in train for training with MFCC\n",
      "Speaker  6  in test matches with speaker  6  in train for training with LPC\n",
      "Now speaker  7 features are being tested\n",
      "Speaker  7  in test matches with speaker  1  in train for training with MFCC\n",
      "Speaker  7  in test matches with speaker  1  in train for training with LPC\n",
      "Now speaker  8 features are being tested\n",
      "Speaker  8  in test matches with speaker  1  in train for training with MFCC\n",
      "Speaker  8  in test matches with speaker  1  in train for training with LPC\n",
      "Accuracy of result for training with MFCC is  50.0 %\n",
      "Accuracy of result for training with LPC is  50.0 %\n"
     ]
    }
   ],
   "source": [
    "!python train.py\n",
    "!python test.py"
   ]
  },
  {
   "cell_type": "code",
   "execution_count": null,
   "metadata": {},
   "outputs": [],
   "source": []
  }
 ]
}